{
 "cells": [
  {
   "cell_type": "code",
   "execution_count": 15,
   "id": "bd8ac16c",
   "metadata": {},
   "outputs": [],
   "source": [
    "def gradient_calculation(w, X, y):\n",
    "    ones = np.ones((X.shape[0], 1))\n",
    "    X = np.hstack((ones, X))\n",
    "    return (X.T @ (X @ w - y)) / len(y)\n",
    "\n",
    "def multiple_linear_regression(X, y, lr = 1e-2, stopping_error = 0.000001):\n",
    "    w = np.array([0.2, 0.2, 0.2])\n",
    "\n",
    "    gradient_value = gradient_calculation(w, X, y)\n",
    "    while np.linalg.norm(gradient_value) > stopping_error:\n",
    "        w = w - gradient_value * lr\n",
    "        gradient_value = gradient_calculation(w, X, y)\n",
    "\n",
    "    return w"
   ]
  },
  {
   "cell_type": "code",
   "execution_count": 2,
   "id": "26dbed82",
   "metadata": {},
   "outputs": [],
   "source": [
    "import numpy as np\n",
    "import pandas as pd\n",
    "import matplotlib.pyplot as plt\n",
    "from sklearn.linear_model import LinearRegression\n",
    "\n",
    "df = pd.read_csv(\"motor_data14-2018.csv\")\n",
    "df = df.dropna()"
   ]
  },
  {
   "cell_type": "code",
   "execution_count": 3,
   "id": "2c346c59",
   "metadata": {},
   "outputs": [
    {
     "data": {
      "text/html": [
       "<div>\n",
       "<style scoped>\n",
       "    .dataframe tbody tr th:only-of-type {\n",
       "        vertical-align: middle;\n",
       "    }\n",
       "\n",
       "    .dataframe tbody tr th {\n",
       "        vertical-align: top;\n",
       "    }\n",
       "\n",
       "    .dataframe thead th {\n",
       "        text-align: right;\n",
       "    }\n",
       "</style>\n",
       "<table border=\"1\" class=\"dataframe\">\n",
       "  <thead>\n",
       "    <tr style=\"text-align: right;\">\n",
       "      <th></th>\n",
       "      <th>SEX</th>\n",
       "      <th>INSR_BEGIN</th>\n",
       "      <th>INSR_END</th>\n",
       "      <th>EFFECTIVE_YR</th>\n",
       "      <th>INSR_TYPE</th>\n",
       "      <th>INSURED_VALUE</th>\n",
       "      <th>PREMIUM</th>\n",
       "      <th>OBJECT_ID</th>\n",
       "      <th>PROD_YEAR</th>\n",
       "      <th>SEATS_NUM</th>\n",
       "      <th>CARRYING_CAPACITY</th>\n",
       "      <th>TYPE_VEHICLE</th>\n",
       "      <th>CCM_TON</th>\n",
       "      <th>MAKE</th>\n",
       "      <th>USAGE</th>\n",
       "      <th>CLAIM_PAID</th>\n",
       "    </tr>\n",
       "  </thead>\n",
       "  <tbody>\n",
       "    <tr>\n",
       "      <th>6</th>\n",
       "      <td>0</td>\n",
       "      <td>08-AUG-15</td>\n",
       "      <td>07-AUG-16</td>\n",
       "      <td>08</td>\n",
       "      <td>1202</td>\n",
       "      <td>1400000.00</td>\n",
       "      <td>16438.15</td>\n",
       "      <td>5000029901</td>\n",
       "      <td>2010.0</td>\n",
       "      <td>4.0</td>\n",
       "      <td>7.0</td>\n",
       "      <td>Pick-up</td>\n",
       "      <td>2494.0</td>\n",
       "      <td>TOYOTA</td>\n",
       "      <td>Own Goods</td>\n",
       "      <td>365250.00</td>\n",
       "    </tr>\n",
       "    <tr>\n",
       "      <th>7</th>\n",
       "      <td>0</td>\n",
       "      <td>08-AUG-14</td>\n",
       "      <td>07-AUG-15</td>\n",
       "      <td>08</td>\n",
       "      <td>1202</td>\n",
       "      <td>285451.24</td>\n",
       "      <td>3931.23</td>\n",
       "      <td>5000029901</td>\n",
       "      <td>2010.0</td>\n",
       "      <td>4.0</td>\n",
       "      <td>7.0</td>\n",
       "      <td>Pick-up</td>\n",
       "      <td>2494.0</td>\n",
       "      <td>TOYOTA</td>\n",
       "      <td>Own Goods</td>\n",
       "      <td>12152.73</td>\n",
       "    </tr>\n",
       "    <tr>\n",
       "      <th>11</th>\n",
       "      <td>1</td>\n",
       "      <td>24-NOV-14</td>\n",
       "      <td>23-NOV-15</td>\n",
       "      <td>12</td>\n",
       "      <td>1202</td>\n",
       "      <td>3400000.00</td>\n",
       "      <td>21617.71</td>\n",
       "      <td>5000030358</td>\n",
       "      <td>2012.0</td>\n",
       "      <td>0.0</td>\n",
       "      <td>220.0</td>\n",
       "      <td>Truck</td>\n",
       "      <td>12880.0</td>\n",
       "      <td>IVECO</td>\n",
       "      <td>General Cartage</td>\n",
       "      <td>159754.37</td>\n",
       "    </tr>\n",
       "    <tr>\n",
       "      <th>105</th>\n",
       "      <td>0</td>\n",
       "      <td>18-JUL-14</td>\n",
       "      <td>17-JUL-15</td>\n",
       "      <td>91</td>\n",
       "      <td>1202</td>\n",
       "      <td>310779.00</td>\n",
       "      <td>4756.13</td>\n",
       "      <td>5000031150</td>\n",
       "      <td>2006.0</td>\n",
       "      <td>4.0</td>\n",
       "      <td>7.0</td>\n",
       "      <td>Pick-up</td>\n",
       "      <td>2477.0</td>\n",
       "      <td>MITSUBISHI</td>\n",
       "      <td>Own Goods</td>\n",
       "      <td>11100.00</td>\n",
       "    </tr>\n",
       "    <tr>\n",
       "      <th>147</th>\n",
       "      <td>1</td>\n",
       "      <td>09-NOV-16</td>\n",
       "      <td>08-NOV-17</td>\n",
       "      <td>12</td>\n",
       "      <td>1202</td>\n",
       "      <td>800000.00</td>\n",
       "      <td>28469.45</td>\n",
       "      <td>5000031777</td>\n",
       "      <td>2005.0</td>\n",
       "      <td>2.0</td>\n",
       "      <td>0.0</td>\n",
       "      <td>Truck</td>\n",
       "      <td>8226.0</td>\n",
       "      <td>ISUZU</td>\n",
       "      <td>General Cartage</td>\n",
       "      <td>140.00</td>\n",
       "    </tr>\n",
       "  </tbody>\n",
       "</table>\n",
       "</div>"
      ],
      "text/plain": [
       "     SEX INSR_BEGIN   INSR_END EFFECTIVE_YR  INSR_TYPE  INSURED_VALUE  \\\n",
       "6      0  08-AUG-15  07-AUG-16           08       1202     1400000.00   \n",
       "7      0  08-AUG-14  07-AUG-15           08       1202      285451.24   \n",
       "11     1  24-NOV-14  23-NOV-15           12       1202     3400000.00   \n",
       "105    0  18-JUL-14  17-JUL-15           91       1202      310779.00   \n",
       "147    1  09-NOV-16  08-NOV-17           12       1202      800000.00   \n",
       "\n",
       "      PREMIUM   OBJECT_ID  PROD_YEAR  SEATS_NUM  CARRYING_CAPACITY  \\\n",
       "6    16438.15  5000029901     2010.0        4.0                7.0   \n",
       "7     3931.23  5000029901     2010.0        4.0                7.0   \n",
       "11   21617.71  5000030358     2012.0        0.0              220.0   \n",
       "105   4756.13  5000031150     2006.0        4.0                7.0   \n",
       "147  28469.45  5000031777     2005.0        2.0                0.0   \n",
       "\n",
       "    TYPE_VEHICLE  CCM_TON        MAKE            USAGE  CLAIM_PAID  \n",
       "6        Pick-up   2494.0      TOYOTA        Own Goods   365250.00  \n",
       "7        Pick-up   2494.0      TOYOTA        Own Goods    12152.73  \n",
       "11         Truck  12880.0       IVECO  General Cartage   159754.37  \n",
       "105      Pick-up   2477.0  MITSUBISHI        Own Goods    11100.00  \n",
       "147        Truck   8226.0       ISUZU  General Cartage      140.00  "
      ]
     },
     "execution_count": 3,
     "metadata": {},
     "output_type": "execute_result"
    }
   ],
   "source": [
    "df.head(5)"
   ]
  },
  {
   "cell_type": "code",
   "execution_count": 4,
   "id": "98eb0d03",
   "metadata": {},
   "outputs": [
    {
     "data": {
      "text/plain": [
       "{'whiskers': [<matplotlib.lines.Line2D at 0x1b7515fdb40>,\n",
       "  <matplotlib.lines.Line2D at 0x1b7515fde40>],\n",
       " 'caps': [<matplotlib.lines.Line2D at 0x1b7515fe140>,\n",
       "  <matplotlib.lines.Line2D at 0x1b7515fe440>],\n",
       " 'boxes': [<matplotlib.lines.Line2D at 0x1b7515fd840>],\n",
       " 'medians': [<matplotlib.lines.Line2D at 0x1b7515fe740>],\n",
       " 'fliers': [<matplotlib.lines.Line2D at 0x1b7515fea40>],\n",
       " 'means': []}"
      ]
     },
     "execution_count": 4,
     "metadata": {},
     "output_type": "execute_result"
    },
    {
     "data": {
      "image/png": "[encoded data removed]",
      "text/plain": [
       "<Figure size 640x480 with 1 Axes>"
      ]
     },
     "metadata": {},
     "output_type": "display_data"
    }
   ],
   "source": [
    "plt.boxplot(df[\"INSURED_VALUE\"])"
   ]
  },
  {
   "cell_type": "code",
   "execution_count": 5,
   "id": "66ba3f61",
   "metadata": {},
   "outputs": [
    {
     "data": {
      "text/plain": [
       "(array([2.4184e+04, 4.0200e+03, 7.5000e+01, 1.6000e+01, 8.0000e+00,\n",
       "        0.0000e+00, 0.0000e+00, 0.0000e+00, 0.0000e+00, 1.0000e+00]),\n",
       " array([       0.   ,  1966104.988,  3932209.976,  5898314.964,\n",
       "         7864419.952,  9830524.94 , 11796629.928, 13762734.916,\n",
       "        15728839.904, 17694944.892, 19661049.88 ]),\n",
       " <BarContainer object of 10 artists>)"
      ]
     },
     "execution_count": 5,
     "metadata": {},
     "output_type": "execute_result"
    },
    {
     "data": {
      "image/png": "[encoded data removed]",
      "text/plain": [
       "<Figure size 640x480 with 1 Axes>"
      ]
     },
     "metadata": {},
     "output_type": "display_data"
    }
   ],
   "source": [
    "plt.hist(df[\"INSURED_VALUE\"])"
   ]
  },
  {
   "cell_type": "code",
   "execution_count": 6,
   "id": "e479c522",
   "metadata": {},
   "outputs": [],
   "source": [
    "df = df[df['INSURED_VALUE'] <= 0.5*1e7]"
   ]
  },
  {
   "cell_type": "code",
   "execution_count": 7,
   "id": "d8242332",
   "metadata": {},
   "outputs": [
    {
     "data": {
      "text/plain": [
       "{'whiskers': [<matplotlib.lines.Line2D at 0x1b72e5facb0>,\n",
       "  <matplotlib.lines.Line2D at 0x1b72e5fafb0>],\n",
       " 'caps': [<matplotlib.lines.Line2D at 0x1b72e5fb2b0>,\n",
       "  <matplotlib.lines.Line2D at 0x1b72e5fb5b0>],\n",
       " 'boxes': [<matplotlib.lines.Line2D at 0x1b72e5fa9b0>],\n",
       " 'medians': [<matplotlib.lines.Line2D at 0x1b72e5fb8b0>],\n",
       " 'fliers': [<matplotlib.lines.Line2D at 0x1b72e5fbbb0>],\n",
       " 'means': []}"
      ]
     },
     "execution_count": 7,
     "metadata": {},
     "output_type": "execute_result"
    },
    {
     "data": {
      "image/png": "[encoded data removed]",
      "text/plain": [
       "<Figure size 640x480 with 1 Axes>"
      ]
     },
     "metadata": {},
     "output_type": "display_data"
    }
   ],
   "source": [
    "plt.boxplot(df[\"PREMIUM\"])"
   ]
  },
  {
   "cell_type": "code",
   "execution_count": 8,
   "id": "f60c96e4",
   "metadata": {},
   "outputs": [
    {
     "data": {
      "text/plain": [
       "(array([1.3727e+04, 7.1620e+03, 4.1540e+03, 2.2690e+03, 6.7900e+02,\n",
       "        2.0200e+02, 4.6000e+01, 1.1000e+01, 7.0000e+00, 7.0000e+00]),\n",
       " array([   228.1  ,  12053.372,  23878.644,  35703.916,  47529.188,\n",
       "         59354.46 ,  71179.732,  83005.004,  94830.276, 106655.548,\n",
       "        118480.82 ]),\n",
       " <BarContainer object of 10 artists>)"
      ]
     },
     "execution_count": 8,
     "metadata": {},
     "output_type": "execute_result"
    },
    {
     "data": {
      "image/png": "[encoded data removed]",
      "text/plain": [
       "<Figure size 640x480 with 1 Axes>"
      ]
     },
     "metadata": {},
     "output_type": "display_data"
    }
   ],
   "source": [
    "plt.hist(df[\"PREMIUM\"])"
   ]
  },
  {
   "cell_type": "code",
   "execution_count": 9,
   "id": "233acfcf",
   "metadata": {},
   "outputs": [],
   "source": [
    "df = df[df['PREMIUM'] <= 80000]"
   ]
  },
  {
   "cell_type": "code",
   "execution_count": 10,
   "id": "b6c5831e",
   "metadata": {},
   "outputs": [
    {
     "data": {
      "text/plain": [
       "{'whiskers': [<matplotlib.lines.Line2D at 0x1b72e69ed70>,\n",
       "  <matplotlib.lines.Line2D at 0x1b72e69f070>],\n",
       " 'caps': [<matplotlib.lines.Line2D at 0x1b72e69f370>,\n",
       "  <matplotlib.lines.Line2D at 0x1b72e69f670>],\n",
       " 'boxes': [<matplotlib.lines.Line2D at 0x1b72e69ea70>],\n",
       " 'medians': [<matplotlib.lines.Line2D at 0x1b72e69f970>],\n",
       " 'fliers': [<matplotlib.lines.Line2D at 0x1b72e69fc70>],\n",
       " 'means': []}"
      ]
     },
     "execution_count": 10,
     "metadata": {},
     "output_type": "execute_result"
    },
    {
     "data": {
      "image/png": "[encoded data removed]",
      "text/plain": [
       "<Figure size 640x480 with 1 Axes>"
      ]
     },
     "metadata": {},
     "output_type": "display_data"
    }
   ],
   "source": [
    "plt.boxplot(df[\"PROD_YEAR\"])"
   ]
  },
  {
   "cell_type": "code",
   "execution_count": 11,
   "id": "9fdff6a5",
   "metadata": {},
   "outputs": [
    {
     "data": {
      "text/plain": [
       "(array([6.0000e+00, 2.1000e+01, 5.2000e+01, 6.2500e+02, 7.2800e+02,\n",
       "        7.7400e+02, 1.8170e+03, 4.1910e+03, 9.5790e+03, 1.0431e+04]),\n",
       " array([1959. , 1964.9, 1970.8, 1976.7, 1982.6, 1988.5, 1994.4, 2000.3,\n",
       "        2006.2, 2012.1, 2018. ]),\n",
       " <BarContainer object of 10 artists>)"
      ]
     },
     "execution_count": 11,
     "metadata": {},
     "output_type": "execute_result"
    },
    {
     "data": {
      "image/png": "[encoded data removed]",
      "text/plain": [
       "<Figure size 640x480 with 1 Axes>"
      ]
     },
     "metadata": {},
     "output_type": "display_data"
    }
   ],
   "source": [
    "plt.hist(df[\"PROD_YEAR\"])"
   ]
  },
  {
   "cell_type": "code",
   "execution_count": 12,
   "id": "c7ebae2b",
   "metadata": {},
   "outputs": [],
   "source": [
    "df = df[df['PROD_YEAR'] >= 1970]"
   ]
  },
  {
   "cell_type": "code",
   "execution_count": 13,
   "id": "25bd188b",
   "metadata": {},
   "outputs": [],
   "source": [
    "df[\"INSURED_VALUE\"] = (df[\"INSURED_VALUE\"] - min(df[\"INSURED_VALUE\"])) / (max(df[\"INSURED_VALUE\"]) - min(df[\"INSURED_VALUE\"]))\n",
    "df[\"PROD_YEAR\"] = (df[\"PROD_YEAR\"] - min(df[\"PROD_YEAR\"])) / (max(df[\"PROD_YEAR\"]) - min(df[\"PROD_YEAR\"]))\n",
    "df[\"PREMIUM\"] = (df[\"PREMIUM\"] - min(df[\"PREMIUM\"])) / (max(df[\"PREMIUM\"]) - min(df[\"PREMIUM\"]))\n",
    "\n",
    "X = df[[\"INSURED_VALUE\", \"PROD_YEAR\"]].to_numpy()\n",
    "y = df[\"PREMIUM\"].to_numpy()"
   ]
  },
  {
   "cell_type": "code",
   "execution_count": 21,
   "id": "778761da",
   "metadata": {},
   "outputs": [],
   "source": [
    "# Manual multiple linear regression implementation\n",
    "coefficients = multiple_linear_regression(X, y)"
   ]
  },
  {
   "cell_type": "code",
   "execution_count": 22,
   "id": "96dfd881",
   "metadata": {},
   "outputs": [
    {
     "data": {
      "text/plain": [
       "array([0.04748529, 0.601569  , 0.04208564])"
      ]
     },
     "execution_count": 22,
     "metadata": {},
     "output_type": "execute_result"
    }
   ],
   "source": [
    "coefficients"
   ]
  },
  {
   "cell_type": "markdown",
   "id": "b404be12",
   "metadata": {},
   "source": [
    "We compare the manual regression coefficients to the built in manual regression coefficients:"
   ]
  },
  {
   "cell_type": "code",
   "execution_count": 24,
   "id": "050ea898",
   "metadata": {},
   "outputs": [
    {
     "name": "stdout",
     "output_type": "stream",
     "text": [
      "Intercept: 0.04752594934635937\n",
      "Coefficients: [0.60161372 0.04202305]\n"
     ]
    }
   ],
   "source": [
    "model = LinearRegression()\n",
    "model.fit(X, y)\n",
    "# Coefficients and intercept\n",
    "print(\"Intercept:\", model.intercept_)  # y-intercept\n",
    "print(\"Coefficients:\", model.coef_)    # slope for each feature"
   ]
  },
  {
   "cell_type": "markdown",
   "id": "73c455f2",
   "metadata": {},
   "source": [
    "As we can see, the coefficients of our manually implemented multiple linear regression and the scikit-learn multiple linear regression are the same within the margin of error."
   ]
  }
 ],
 "metadata": {
  "kernelspec": {
   "display_name": "env",
   "language": "python",
   "name": "python3"
  },
  "language_info": {
   "codemirror_mode": {
    "name": "ipython",
    "version": 3
   },
   "file_extension": ".py",
   "mimetype": "text/x-python",
   "name": "python",
   "nbconvert_exporter": "python",
   "pygments_lexer": "ipython3",
   "version": "3.10.6"
  }
 },
 "nbformat": 4,
 "nbformat_minor": 5
}
